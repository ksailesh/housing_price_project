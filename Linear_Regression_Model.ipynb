{
  "nbformat": 4,
  "nbformat_minor": 0,
  "metadata": {
    "colab": {
      "provenance": [],
      "authorship_tag": "ABX9TyMNEV1iJWd50A4J6UB7XzUp",
      "include_colab_link": true
    },
    "kernelspec": {
      "name": "python3",
      "display_name": "Python 3"
    },
    "language_info": {
      "name": "python"
    }
  },
  "cells": [
    {
      "cell_type": "markdown",
      "metadata": {
        "id": "view-in-github",
        "colab_type": "text"
      },
      "source": [
        "<a href=\"https://colab.research.google.com/github/ksailesh/housing_price_project/blob/main/Linear_Regression_Model.ipynb\" target=\"_parent\"><img src=\"https://colab.research.google.com/assets/colab-badge.svg\" alt=\"Open In Colab\"/></a>"
      ]
    },
    {
      "cell_type": "code",
      "execution_count": 5,
      "metadata": {
        "colab": {
          "base_uri": "https://localhost:8080/"
        },
        "id": "kp1ikfAYT0Fd",
        "outputId": "69db8b78-6aae-45bb-c56b-5b29bcd7da4d"
      },
      "outputs": [
        {
          "output_type": "stream",
          "name": "stdout",
          "text": [
            "Drive already mounted at /content/drive/; to attempt to forcibly remount, call drive.mount(\"/content/drive/\", force_remount=True).\n",
            "Successfully loaded the pickle files.\n"
          ]
        }
      ],
      "source": [
        "# Read df_enriched_features pickle file from google drive\n",
        "from google.colab import drive\n",
        "import pandas as pd\n",
        "\n",
        "# Mount Google Drive\n",
        "drive.mount('/content/drive/')\n",
        "\n",
        "df_enriched_features_file_path = '/content/drive/MyDrive/Colab Notebooks/df_enriched_features.pkl'\n",
        "df_without_enriched_features_file_path = '/content/drive/MyDrive/Colab Notebooks/df_without_enriched_features.pkl'\n",
        "try:\n",
        "  df_enriched_features = pd.read_pickle(df_enriched_features_file_path)\n",
        "  df_without_enriched_features = pd.read_pickle(df_without_enriched_features_file_path)\n",
        "  print(\"Successfully loaded the pickle files.\")\n",
        "except FileNotFoundError:\n",
        "  print(f\"Error: File not found at {df_enriched_features_file_path}. Please check the file path.\")\n",
        "  print(f\"Error: File not found at {df_without_enriched_features_file_path}. Please check the file path.\")\n",
        "except Exception as e:\n",
        "  print(f\"An error occurred: {e}\")\n"
      ]
    }
  ]
}